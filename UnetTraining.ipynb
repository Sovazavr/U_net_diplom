{
  "nbformat": 4,
  "nbformat_minor": 0,
  "metadata": {
    "colab": {
      "name": "UnetTraining.ipynb",
      "provenance": [],
      "collapsed_sections": []
    },
    "kernelspec": {
      "name": "python3",
      "display_name": "Python 3"
    },
    "language_info": {
      "name": "python"
    },
    "accelerator": "GPU",
    "gpuClass": "standard"
  },
  "cells": [
    {
      "cell_type": "code",
      "execution_count": null,
      "metadata": {
        "colab": {
          "base_uri": "https://localhost:8080/"
        },
        "id": "NyyMyhoxEA_-",
        "outputId": "1bfce39c-68db-417d-8303-6b44c2f9ede8"
      },
      "outputs": [
        {
          "output_type": "stream",
          "name": "stdout",
          "text": [
            "Mounted at /content/drive\n"
          ]
        }
      ],
      "source": [
        "from google.colab import drive\n",
        "drive.mount('/content/drive')"
      ]
    },
    {
      "cell_type": "code",
      "source": [
        "import os\n",
        "path=\"/content/drive/MyDrive/DICOM\"\n",
        "inPath=os.listdir(\"/content/drive/MyDrive/DICOM\")\n",
        "inPath"
      ],
      "metadata": {
        "colab": {
          "base_uri": "https://localhost:8080/"
        },
        "id": "WyLjpDavENBw",
        "outputId": "8654aa1d-e37b-4bb8-9b8e-d94355431f3f"
      },
      "execution_count": null,
      "outputs": [
        {
          "output_type": "execute_result",
          "data": {
            "text/plain": [
              "['Pneumonia', 'Tuberculosis', 'Cancer']"
            ]
          },
          "metadata": {},
          "execution_count": 2
        }
      ]
    },
    {
      "cell_type": "code",
      "source": [
        "pneum_path=path+\"/Pneumonia/Пневмония\"\n",
        "tub_path=path+\"/Tuberculosis/Туберкулез\"\n",
        "can_path=path+\"/Cancer/0\"\n",
        "print(pneum_path,\n",
        "tub_path,\n",
        "can_path)"
      ],
      "metadata": {
        "colab": {
          "base_uri": "https://localhost:8080/"
        },
        "id": "Fshp0dEMER6o",
        "outputId": "ec44769b-be36-4de4-ace3-475403b0450a"
      },
      "execution_count": null,
      "outputs": [
        {
          "output_type": "stream",
          "name": "stdout",
          "text": [
            "/content/drive/MyDrive/DICOM/Pneumonia/Пневмония /content/drive/MyDrive/DICOM/Tuberculosis/Туберкулез /content/drive/MyDrive/DICOM/Cancer/0\n"
          ]
        }
      ]
    },
    {
      "cell_type": "code",
      "source": [
        "arrPneumPath=os.listdir(pneum_path)\n",
        "arrTubPath=os.listdir(tub_path)\n",
        "arrCanPath=os.listdir(can_path)"
      ],
      "metadata": {
        "id": "jVojSyD-EVld"
      },
      "execution_count": null,
      "outputs": []
    },
    {
      "cell_type": "code",
      "source": [
        "def addPath(path, arrPath):\n",
        "    arr=[]\n",
        "    for i in range(0, len(arrPath)):\n",
        "        inDirectory=os.listdir(path+\"/\"+arrPath[i])\n",
        "        new_path=path+\"/\"+arrPath[i]\n",
        "        for j in range(0, len(inDirectory)):\n",
        "            inPostDirectory=os.listdir(new_path+\"/\"+inDirectory[j]+\"/\")\n",
        "            for k in range(0, len(inPostDirectory)):\n",
        "                end_pneum_path=new_path+\"/\"+inDirectory[j]+\"/\"+inPostDirectory[k]\n",
        "                inLastDir=os.listdir(end_pneum_path)\n",
        "                for m in range(0, len(inLastDir)):\n",
        "                    endDir=end_pneum_path+\"/\"+inLastDir[m]\n",
        "                    arr.append(endDir)\n",
        "    return arr\n",
        "arrPneum=addPath(pneum_path, arrPneumPath)\n",
        "arrTub=addPath(tub_path, arrTubPath)\n",
        "arrCan=addPath(can_path, arrCanPath)"
      ],
      "metadata": {
        "id": "VRiIevmCEX9B"
      },
      "execution_count": null,
      "outputs": []
    },
    {
      "cell_type": "code",
      "source": [
        "#установка библиотеки для работы с изображениями DICOM формата\n",
        "!pip install pydicom"
      ],
      "metadata": {
        "colab": {
          "base_uri": "https://localhost:8080/"
        },
        "id": "TNrLHoM7EY8o",
        "outputId": "06606442-4a07-4dde-c610-314741abe0e6"
      },
      "execution_count": null,
      "outputs": [
        {
          "output_type": "stream",
          "name": "stdout",
          "text": [
            "Looking in indexes: https://pypi.org/simple, https://us-python.pkg.dev/colab-wheels/public/simple/\n",
            "Collecting pydicom\n",
            "  Downloading pydicom-2.3.0-py3-none-any.whl (2.0 MB)\n",
            "\u001b[K     |████████████████████████████████| 2.0 MB 37.2 MB/s \n",
            "\u001b[?25hInstalling collected packages: pydicom\n",
            "Successfully installed pydicom-2.3.0\n"
          ]
        }
      ]
    },
    {
      "cell_type": "code",
      "source": [
        "import pydicom as dicom\n",
        "import cv2\n",
        "from PIL import Image"
      ],
      "metadata": {
        "id": "te889egeEnnh"
      },
      "execution_count": null,
      "outputs": []
    },
    {
      "cell_type": "code",
      "source": [
        "\n",
        "size=[]\n",
        "\n",
        "def sizeCheked(arrPneum):\n",
        "    pixel_array_numpy=[]\n",
        "    for i in range(0, len(arrPneum)):\n",
        "        try:\n",
        "            image_path = arrPneum[i]\n",
        "            ds = dicom.dcmread(image_path)\n",
        "            pixel_array_numpy.append(ds.pixel_array)\n",
        "        \n",
        "            #image_format = '.jpg' # or '.png'\n",
        "            #image_path = image_path.replace('.dcm', image_format)\n",
        "            #im = Image.open(image_path)\n",
        "            #size.append(im.size)\n",
        "        except FileNotFoundError:\n",
        "            print(i, \": none\")\n",
        "    for i in range(0, len(pixel_array_numpy)):\n",
        "        for j in range(0, len(pixel_array_numpy[i])):\n",
        "            if(pixel_array_numpy[i][j].size!=512):\n",
        "                print(pixel_array_numpy[i][j].size)"
      ],
      "metadata": {
        "id": "cZ4dgdLGEq08"
      },
      "execution_count": null,
      "outputs": []
    },
    {
      "cell_type": "code",
      "source": [
        "\n",
        "from keras.models import Sequential\n",
        "from keras.layers import Dense\n",
        "from keras.wrappers.scikit_learn import KerasClassifier\n",
        "from keras.utils import np_utils\n",
        "from sklearn.model_selection import cross_val_score\n",
        "from sklearn.model_selection import KFold\n",
        "from sklearn.preprocessing import LabelEncoder\n",
        "from sklearn.pipeline import Pipeline"
      ],
      "metadata": {
        "id": "8-zJD71OEvQQ"
      },
      "execution_count": null,
      "outputs": []
    },
    {
      "cell_type": "code",
      "source": [
        "def spliting(arr):\n",
        "    splitArray=[]\n",
        "    for i in range(0,len(arr)):\n",
        "        splitArray.append(arr[i].split('/'))\n",
        "        \n",
        "    return splitArray\n",
        "spliter=spliting(arrPneum)+spliting(arrTub)+spliting(arrCan)"
      ],
      "metadata": {
        "id": "Sc6vExc9E9W1"
      },
      "execution_count": null,
      "outputs": []
    },
    {
      "cell_type": "code",
      "source": [
        "preCsv=[]\n",
        "for i in range(0,len(spliter)):\n",
        "    preCsv.append([spliter[i][5], spliter[i][10], \"/\".join(spliter[i])])"
      ],
      "metadata": {
        "id": "0WK_ltJKFCLA"
      },
      "execution_count": null,
      "outputs": []
    },
    {
      "cell_type": "code",
      "source": [
        "import pandas as pd\n",
        "df = pd.DataFrame(preCsv)\n",
        "df.to_csv('file.csv', index=False, header=True)"
      ],
      "metadata": {
        "id": "1PmRsetpFE3L"
      },
      "execution_count": null,
      "outputs": []
    },
    {
      "cell_type": "code",
      "source": [
        "\n",
        "df.columns = ['Type', 'img_name', 'path_to_img']\n",
        "df"
      ],
      "metadata": {
        "id": "vYooViYxFH2i"
      },
      "execution_count": null,
      "outputs": []
    },
    {
      "cell_type": "code",
      "source": [
        "import numpy as np\n",
        "\n",
        "#функция перевода изображения в массив значений в единицах Хаунсфилда\n",
        "\n",
        "def get_pixels_hu(scans):\n",
        "    image = np.stack([scans.pixel_array])#np.stack([s.pixel_array for s in scans])\n",
        "    # Convert to int16 (from sometimes int16), \n",
        "    # возможно, так как значения всегда должны быть достаточно низкими (<32k)\n",
        "    image = image.astype(np.int16)\n",
        "\n",
        "    # Установит значение пикселов вне области сканирования равным 1\n",
        "    # intercept обычно составляет -1024, так что воздух составляет примерно 0\n",
        "    image[image == -2000] = 0\n",
        "    \n",
        "    # Convert to Hounsfield units (HU)\n",
        "    intercept = scans.RescaleIntercept\n",
        "    slope = scans.RescaleSlope\n",
        "    \n",
        "    if slope != 1:\n",
        "        image = slope * image.astype(np.float64)\n",
        "        image = image.astype(np.int16)\n",
        "        \n",
        "    image += np.int16(intercept)\n",
        "    \n",
        "    return np.array(image, dtype=np.int16)\n"
      ],
      "metadata": {
        "id": "MMXHhmKCFMKi"
      },
      "execution_count": null,
      "outputs": []
    },
    {
      "cell_type": "code",
      "source": [
        "from skimage.transform import resize"
      ],
      "metadata": {
        "id": "jEdpi3hoFTP5"
      },
      "execution_count": null,
      "outputs": []
    },
    {
      "cell_type": "code",
      "source": [
        "def get_pixel_uid(x):\n",
        "    try:\n",
        "        dcm_x=dicom.dcmread(x, force=True)\n",
        "        #dcm_x.file_meta.TransferSyntaxUID = dicom.uid.ImplicitVRLittleEndian\n",
        "    \n",
        "        return get_pixels_hu(dcm_x).flatten()\n",
        "    except AttributeError:\n",
        "        return None"
      ],
      "metadata": {
        "id": "lh4fYz-QFXBO"
      },
      "execution_count": null,
      "outputs": []
    },
    {
      "cell_type": "code",
      "source": [
        "import tensorflow as tf"
      ],
      "metadata": {
        "id": "ujP0VwgoFbrp"
      },
      "execution_count": null,
      "outputs": []
    },
    {
      "cell_type": "code",
      "source": [
        "path=\"/content/drive/MyDrive/UnetLern\"\n",
        "inPath=os.listdir(path)\n",
        "inPath=inPath[1:]\n",
        "inPath"
      ],
      "metadata": {
        "colab": {
          "base_uri": "https://localhost:8080/"
        },
        "id": "TlHUqkgUFetn",
        "outputId": "e597d019-c99c-471d-e8e4-027b50641282"
      },
      "execution_count": null,
      "outputs": [
        {
          "output_type": "execute_result",
          "data": {
            "text/plain": [
              "['Cancer', 'Tuberculesis', 'Pneumonia']"
            ]
          },
          "metadata": {},
          "execution_count": 18
        }
      ]
    },
    {
      "cell_type": "code",
      "source": [
        "#выполняется сегментация, принудительно на графическом процессоре\n",
        "with tf.device('/GPU:0'):\n",
        "        df[\"img\"]=df[\"path_to_img\"].apply(lambda x: get_pixel_uid(x))"
      ],
      "metadata": {
        "id": "OBnhNt4ZXqk1"
      },
      "execution_count": null,
      "outputs": []
    },
    {
      "cell_type": "code",
      "source": [
        "#Standardize the pixel values\n",
        "from sklearn.cluster import KMeans\n",
        "from skimage import morphology\n",
        "from skimage import measure\n",
        "from PIL import Image\n",
        "import imageio\n",
        "import cv2\n",
        "\n",
        "def mask(img, img_name,diagnos, display=False):\n",
        "    row_size= img.shape[0]\n",
        "    col_size = img.shape[1]\n",
        "    \n",
        "    mean = np.mean(img)\n",
        "    std = np.std(img)\n",
        "    \n",
        "    img = img-mean\n",
        "    img = img/std\n",
        "    # Найти среднее значение пикселя рядом с легкими\n",
        "    # для перенормировки размытых изображений\n",
        "    middle = img[int(col_size/5):int(col_size/5*4),int(row_size/5):int(row_size/5*4)] \n",
        "    mean = np.mean(middle)  \n",
        "    max = np.max(img)\n",
        "    min = np.min(img)\n",
        "    # \n",
        "    # \n",
        "    img[img==max]=mean\n",
        "    img[img==min]=mean\n",
        "    #\n",
        "    # Использование Kmeans для разделения переднего плана (мягкие ткани / кости) и фона (легкие / воздух)\n",
        "    #\n",
        "    kmeans = KMeans(n_clusters=2).fit(np.reshape(middle,[np.prod(middle.shape),1]))\n",
        "    #Получаю центр каждого кластера\n",
        "    centers = sorted(kmeans.cluster_centers_.flatten())\n",
        "    \n",
        "    threshold = np.mean(centers)\n",
        "    \n",
        "    thresh_img = np.where(img<threshold,1.0,0.0)  # пороговое значение изображения\n",
        "\n",
        "    # Сначала удаляются более мелкие элементы, затем расширяются, чтобы включить некоторые пиксели, окружающие легкое. \n",
        "    # нельзя случайно задеть легкое.\n",
        "\n",
        "    #eroded = morphology.erosion(thresh_img,np.ones([3,3]))\n",
        "    dilation = morphology.dilation(thresh_img,np.ones([8,8]))\n",
        "    #Получение связанной области изображения\n",
        "    labels = measure.label(dilation) # Разные части отображаются разными цветами\n",
        "    \n",
        "    #Получение уникальных областей\n",
        "    label_vals = np.unique(labels)\n",
        "    \n",
        "    regions = measure.regionprops(labels)\n",
        "    \n",
        "    good_labels = []\n",
        "    for prop in regions:\n",
        "        B = prop.bbox\n",
        "        if B[2]-B[0]<row_size/14*13 and B[3]-B[1]<col_size/14*13 and B[0]>row_size/7 and B[2]<col_size/16*15:\n",
        "            good_labels.append(prop.label)\n",
        "    mask = np.ndarray([row_size,col_size],dtype=np.int8)\n",
        "    mask[:] = 0\n",
        "\n",
        "    #\n",
        "    #  После того, как останутся только легкие, делаем еще одну операцию, чтобы заполнить и удалить легочную маску\n",
        "    for N in good_labels:\n",
        "        mask = mask + np.where(labels==N,1,0)\n",
        "    \n",
        "    mask = morphology.dilation(mask,np.ones([10,10])) # one last dilation\n",
        "\n",
        "    if (display):\n",
        "        fig, ax = plt.subplots(3, 2, figsize=[12, 12])\n",
        "        ax[0, 0].set_title(\"Original\")\n",
        "        ax[0, 0].imshow(img, cmap='gray')\n",
        "        ax[0, 0].axis('off')\n",
        "        ax[0, 1].set_title(\"Threshold\")\n",
        "        ax[0, 1].imshow(thresh_img, cmap='gray')\n",
        "        ax[0, 1].axis('off')\n",
        "        ax[1, 0].set_title(\"After Erosion and Dilation\")\n",
        "        ax[1, 0].imshow(dilation, cmap='gray')\n",
        "        ax[1, 0].axis('off')\n",
        "        ax[1, 1].set_title(\"Color Labels\")\n",
        "        ax[1, 1].imshow(labels, cmap='plasma')\n",
        "        ax[1, 1].axis('off')\n",
        "        ax[2, 0].set_title(\"Final Mask\")\n",
        "        ax[2, 0].imshow(mask, cmap='gray')\n",
        "        ax[2, 0].axis('off')\n",
        "        ax[2, 1].set_title(\"Apply Mask on Original\")\n",
        "        ax[2, 1].imshow(mask*img, cmap='gray')\n",
        "        ax[2, 1].axis('off')\n",
        "        \n",
        "        plt.show()\n",
        "\n",
        "\n",
        "    #Отсюда идет поиск области интереса, а не легких\n",
        "    dilation=dilation*255\n",
        "    \n",
        "    dilation=dilation.flatten()\n",
        "    print(len(dilation))\n",
        "    new_mask=[]\n",
        "    for i in range(0, len(dilation)):\n",
        "        new_mask.append(f_bin(dilation[i]))\n",
        "    new_mask=np.asarray(new_mask).reshape(512,512)\n",
        "\n",
        "    labels2 = measure.label(new_mask) # Разные части отображаются разными цветами\n",
        "    \n",
        "    #Получение уникальных областей\n",
        "    label_vals2 = np.unique(labels2)\n",
        "    \n",
        "    regions2 = measure.regionprops(labels2)\n",
        "    good_labels2=[]\n",
        "\n",
        "    for prop in regions2:\n",
        "        B = prop.bbox\n",
        "        if B[2]-B[0]<row_size/20 and B[3]-B[1]<col_size/20 and B[0]>row_size/4 and B[2]<col_size/5*4:\n",
        "            good_labels2.append(prop.label)\n",
        "    mask2 = np.ndarray([row_size,col_size],dtype=np.int8)\n",
        "    mask2[:] = 0\n",
        "\n",
        "    #\n",
        "    #  \n",
        "    for N in good_labels2:\n",
        "        mask2 = mask2 + np.where(labels2==N,1,0)\n",
        "    print(good_labels2)\n",
        "\n",
        "    mask2 = morphology.dilation(mask2,np.ones([10,10])) # one last dilation\n",
        "    plt.imshow(mask2*img, cmap='gray')\n",
        "    plt.axis(\"off\")\n",
        "    if(diagnos==\"Cancer\"):\n",
        "        cv2.imwrite('/content/drive/MyDrive/UnetLern/Cancer/'+img_name.replace('.dcm', '.jpeg'), mask*255)\n",
        "    if(diagnos==\"Tuberculosis\"):\n",
        "        #im.save('/content/drive/MyDrive/UnetLern/Tuberculesis/'+img_name.replace('.dcm', '.jpeg'), img*mask)\n",
        "        cv2.imwrite('/content/drive/MyDrive/UnetLern/Tuberculesis/'+img_name.replace('.dcm', '.jpeg'), mask*255)\n",
        "    if(diagnos==\"Pneumonia\"):\n",
        "        #im.save('/content/drive/MyDrive/Mask/Pneumonia/'+img_name+\".jpg\")\n",
        "        cv2.imwrite('/content/drive/MyDrive/UnetLern/Pneumonia/'+img_name.replace('.dcm', '.jpeg'), mask*255)\n",
        "    return mask*255"
      ],
      "metadata": {
        "id": "-vozlqhsZ1oF"
      },
      "execution_count": null,
      "outputs": []
    },
    {
      "cell_type": "code",
      "source": [
        "prop=[]\n",
        "import cv2\n",
        "#подготовка снимков для Unet\n",
        "for i in inPath:\n",
        "    imgPath=os.listdir(path+\"/\"+i)\n",
        "    amogus=path+\"/\"+i\n",
        "    for j in range(0, len(imgPath)):\n",
        "       prop.append([np.asarray(df[df['img_name'] == imgPath[j].replace('.jpeg', '.dcm')]['path_to_img'].tolist()).flatten(), cv2.imread(amogus+\"/\"+imgPath[j], cv2.IMREAD_GRAYSCALE)])\n",
        "        #prop.append(df[df['img_name'] == j.replace('.jpeg', '.dcm')]['path_to_img'].tolist())"
      ],
      "metadata": {
        "id": "ziSN0NxRFhii"
      },
      "execution_count": null,
      "outputs": []
    },
    {
      "cell_type": "code",
      "source": [
        "for i in range(0, len(prop)):\n",
        "    prop[i][0]=get_pixel_uid(prop[i][0][0].tolist()).reshape(512,512)\n",
        "    prop[i][1]=prop[i][1]"
      ],
      "metadata": {
        "id": "lsldHPXzFjyS"
      },
      "execution_count": null,
      "outputs": []
    },
    {
      "cell_type": "code",
      "source": [
        "prop[i][0].shape"
      ],
      "metadata": {
        "colab": {
          "base_uri": "https://localhost:8080/"
        },
        "id": "gnrCkq3VFmul",
        "outputId": "e72e42b1-1473-4be3-caa3-698a5c3f8490"
      },
      "execution_count": null,
      "outputs": [
        {
          "output_type": "execute_result",
          "data": {
            "text/plain": [
              "(512, 512)"
            ]
          },
          "metadata": {},
          "execution_count": 29
        }
      ]
    },
    {
      "cell_type": "code",
      "source": [
        "df_new = pd.DataFrame(prop)\n",
        "df_new.columns=[\"img\", \"mask\"]"
      ],
      "metadata": {
        "id": "HqwD7OF6Fp4H"
      },
      "execution_count": null,
      "outputs": []
    },
    {
      "cell_type": "code",
      "source": [
        "X=df_new[\"img\"]\n",
        "Y=df_new[\"mask\"]"
      ],
      "metadata": {
        "id": "kIncHoIUFr98"
      },
      "execution_count": null,
      "outputs": []
    },
    {
      "cell_type": "code",
      "source": [
        "from sklearn import preprocessing\n",
        "\n",
        "\n",
        "normX=[]\n",
        "for i in range(len(X)):\n",
        "    normX.append(preprocessing.normalize(resize(X[i], (128,128))))"
      ],
      "metadata": {
        "id": "Gn11UuQcGE8N"
      },
      "execution_count": null,
      "outputs": []
    },
    {
      "cell_type": "code",
      "source": [
        ""
      ],
      "metadata": {
        "id": "DAnfKvk_MHeP"
      },
      "execution_count": null,
      "outputs": []
    },
    {
      "cell_type": "code",
      "source": [
        "normY=[]\n",
        "for i in range(len(Y)):\n",
        "    normY.append(resize(Y[i], (128,128)).astype('uint8'))"
      ],
      "metadata": {
        "id": "1sCbTxlFIoAl"
      },
      "execution_count": null,
      "outputs": []
    },
    {
      "cell_type": "code",
      "source": [
        "normY[0].max()"
      ],
      "metadata": {
        "colab": {
          "base_uri": "https://localhost:8080/"
        },
        "id": "G7yw9_E_JqGW",
        "outputId": "699a4952-466a-42f9-cb97-170d5d05a090"
      },
      "execution_count": null,
      "outputs": [
        {
          "output_type": "execute_result",
          "data": {
            "text/plain": [
              "1"
            ]
          },
          "metadata": {},
          "execution_count": 62
        }
      ]
    },
    {
      "cell_type": "code",
      "source": [
        "from sklearn.model_selection import train_test_split\n",
        "X_train, X_valid, y_train, y_valid = train_test_split(normX, normY, test_size=0.1, random_state=42)"
      ],
      "metadata": {
        "id": "nNqdPW_jJ6g-"
      },
      "execution_count": null,
      "outputs": []
    },
    {
      "cell_type": "code",
      "source": [
        "X_train=np.expand_dims(np.asarray(X_train), 3)\n",
        "X_train.shape"
      ],
      "metadata": {
        "colab": {
          "base_uri": "https://localhost:8080/"
        },
        "id": "jDsrhuszKdCm",
        "outputId": "66198a69-d55d-4d16-bb7a-6b29c3f03b24"
      },
      "execution_count": null,
      "outputs": [
        {
          "output_type": "execute_result",
          "data": {
            "text/plain": [
              "(53, 128, 128, 1)"
            ]
          },
          "metadata": {},
          "execution_count": 64
        }
      ]
    },
    {
      "cell_type": "code",
      "source": [
        "X_valid=np.expand_dims(np.asarray(X_valid), 3)\n",
        "X_valid.shape"
      ],
      "metadata": {
        "colab": {
          "base_uri": "https://localhost:8080/"
        },
        "id": "6-LQv53KLIlk",
        "outputId": "9517cb76-6737-4148-ae12-e0f4e086ff77"
      },
      "execution_count": null,
      "outputs": [
        {
          "output_type": "execute_result",
          "data": {
            "text/plain": [
              "(6, 128, 128, 1)"
            ]
          },
          "metadata": {},
          "execution_count": 65
        }
      ]
    },
    {
      "cell_type": "code",
      "source": [
        "y_train=np.expand_dims(np.asarray(y_train), 3)\n",
        "y_train.shape"
      ],
      "metadata": {
        "colab": {
          "base_uri": "https://localhost:8080/"
        },
        "id": "ASFNwwyfLMhm",
        "outputId": "13416afc-8fba-4ec1-8bfb-8386d17e0a64"
      },
      "execution_count": null,
      "outputs": [
        {
          "output_type": "execute_result",
          "data": {
            "text/plain": [
              "(53, 128, 128, 1)"
            ]
          },
          "metadata": {},
          "execution_count": 66
        }
      ]
    },
    {
      "cell_type": "code",
      "source": [
        "y_valid=np.expand_dims(np.asarray(y_valid), 3)\n",
        "y_valid.shape"
      ],
      "metadata": {
        "colab": {
          "base_uri": "https://localhost:8080/"
        },
        "id": "3ZK3WA8ILOkW",
        "outputId": "f6af8754-901b-44de-b038-4f77d8cd2ecb"
      },
      "execution_count": null,
      "outputs": [
        {
          "output_type": "execute_result",
          "data": {
            "text/plain": [
              "(6, 128, 128, 1)"
            ]
          },
          "metadata": {},
          "execution_count": 67
        }
      ]
    },
    {
      "cell_type": "code",
      "source": [
        "model_loaded = tf.keras.models.load_model('/content/drive/MyDrive/16_model')"
      ],
      "metadata": {
        "id": "b7ZoLh7aGu3I"
      },
      "execution_count": null,
      "outputs": []
    },
    {
      "cell_type": "code",
      "source": [
        "model_loaded.summary()"
      ],
      "metadata": {
        "id": "rWQ5ttVpMqA_"
      },
      "execution_count": null,
      "outputs": []
    },
    {
      "cell_type": "code",
      "source": [
        "result=model_loaded.fit(X_train, y_train, batch_size=32, epochs=20, validation_data=(X_valid, y_valid))"
      ],
      "metadata": {
        "colab": {
          "base_uri": "https://localhost:8080/"
        },
        "id": "o859sH4tMwcx",
        "outputId": "e3a09f34-9232-42de-aaa5-f30ccfd4348d"
      },
      "execution_count": null,
      "outputs": [
        {
          "output_type": "stream",
          "name": "stdout",
          "text": [
            "Epoch 1/20\n",
            "2/2 [==============================] - 15s 2s/step - loss: 0.7623 - accuracy: 0.8180 - val_loss: 19.8988 - val_accuracy: 0.7996\n",
            "Epoch 2/20\n",
            "2/2 [==============================] - 0s 67ms/step - loss: 0.7583 - accuracy: 0.8180 - val_loss: 6.0858 - val_accuracy: 0.7623\n",
            "Epoch 3/20\n",
            "2/2 [==============================] - 0s 63ms/step - loss: 0.7550 - accuracy: 0.8179 - val_loss: 2.6815 - val_accuracy: 0.7250\n",
            "Epoch 4/20\n",
            "2/2 [==============================] - 0s 62ms/step - loss: 0.7510 - accuracy: 0.8180 - val_loss: 1.7144 - val_accuracy: 0.6944\n",
            "Epoch 5/20\n",
            "2/2 [==============================] - 0s 77ms/step - loss: 0.7476 - accuracy: 0.8180 - val_loss: 1.3768 - val_accuracy: 0.6739\n",
            "Epoch 6/20\n",
            "2/2 [==============================] - 0s 62ms/step - loss: 0.7443 - accuracy: 0.8179 - val_loss: 1.2234 - val_accuracy: 0.6576\n",
            "Epoch 7/20\n",
            "2/2 [==============================] - 0s 62ms/step - loss: 0.7401 - accuracy: 0.8180 - val_loss: 1.1322 - val_accuracy: 0.6451\n",
            "Epoch 8/20\n",
            "2/2 [==============================] - 0s 62ms/step - loss: 0.7358 - accuracy: 0.8181 - val_loss: 1.0672 - val_accuracy: 0.6364\n",
            "Epoch 9/20\n",
            "2/2 [==============================] - 0s 63ms/step - loss: 0.7336 - accuracy: 0.8180 - val_loss: 1.0148 - val_accuracy: 0.6304\n",
            "Epoch 10/20\n",
            "2/2 [==============================] - 0s 66ms/step - loss: 0.7286 - accuracy: 0.8181 - val_loss: 0.9692 - val_accuracy: 0.6278\n",
            "Epoch 11/20\n",
            "2/2 [==============================] - 0s 64ms/step - loss: 0.7272 - accuracy: 0.8180 - val_loss: 0.9283 - val_accuracy: 0.6276\n",
            "Epoch 12/20\n",
            "2/2 [==============================] - 0s 64ms/step - loss: 0.7217 - accuracy: 0.8181 - val_loss: 0.8906 - val_accuracy: 0.6286\n",
            "Epoch 13/20\n",
            "2/2 [==============================] - 0s 69ms/step - loss: 0.7177 - accuracy: 0.8181 - val_loss: 0.8557 - val_accuracy: 0.6302\n",
            "Epoch 14/20\n",
            "2/2 [==============================] - 0s 63ms/step - loss: 0.7142 - accuracy: 0.8181 - val_loss: 0.8234 - val_accuracy: 0.6330\n",
            "Epoch 15/20\n",
            "2/2 [==============================] - 0s 63ms/step - loss: 0.7104 - accuracy: 0.8181 - val_loss: 0.7936 - val_accuracy: 0.6367\n",
            "Epoch 16/20\n",
            "2/2 [==============================] - 0s 62ms/step - loss: 0.7071 - accuracy: 0.8182 - val_loss: 0.7662 - val_accuracy: 0.6423\n",
            "Epoch 17/20\n",
            "2/2 [==============================] - 0s 62ms/step - loss: 0.7026 - accuracy: 0.8183 - val_loss: 0.7409 - val_accuracy: 0.6482\n",
            "Epoch 18/20\n",
            "2/2 [==============================] - 0s 68ms/step - loss: 0.7002 - accuracy: 0.8182 - val_loss: 0.7175 - val_accuracy: 0.6559\n",
            "Epoch 19/20\n",
            "2/2 [==============================] - 0s 63ms/step - loss: 0.6955 - accuracy: 0.8181 - val_loss: 0.6962 - val_accuracy: 0.6623\n",
            "Epoch 20/20\n",
            "2/2 [==============================] - 0s 63ms/step - loss: 0.6911 - accuracy: 0.8183 - val_loss: 0.6766 - val_accuracy: 0.6674\n"
          ]
        }
      ]
    },
    {
      "cell_type": "code",
      "source": [
        "import matplotlib.pyplot as plt\n",
        "history_dict = result.history\n",
        "acc_values = history_dict['accuracy']\n",
        "val_acc_values = history_dict['val_accuracy']\n",
        "epochs = range(1, len(acc_values) + 1)\n",
        "plt.plot(epochs, acc_values, 'r', label='Training acc')\n",
        "plt.plot(epochs, val_acc_values, 'b', label='Validation acc')\n",
        "plt.xlabel('Epochs')\n",
        "plt.ylabel('Accuracy')\n",
        "plt.legend()\n",
        "plt.show()"
      ],
      "metadata": {
        "colab": {
          "base_uri": "https://localhost:8080/",
          "height": 280
        },
        "id": "pny_jBXYNIv7",
        "outputId": "378bd786-798a-44b3-d6c4-0a7c781eec8a"
      },
      "execution_count": null,
      "outputs": [
        {
          "output_type": "display_data",
          "data": {
            "text/plain": [
              "<Figure size 432x288 with 1 Axes>"
            ],
            "image/png": "[encoded data removed]"
          },
          "metadata": {
            "needs_background": "light"
          }
        }
      ]
    },
    {
      "cell_type": "code",
      "source": [
        "one_test=resize(get_pixel_uid(df[\"path_to_img\"][2720]).reshape(512,512), (128,128))"
      ],
      "metadata": {
        "id": "kwm0BRxxNTaI"
      },
      "execution_count": null,
      "outputs": []
    },
    {
      "cell_type": "code",
      "source": [
        "one_test_norm=preprocessing.normalize(one_test)"
      ],
      "metadata": {
        "id": "ojyBba1lNnOH"
      },
      "execution_count": null,
      "outputs": []
    },
    {
      "cell_type": "code",
      "source": [
        "one_exp=np.expand_dims(np.expand_dims(one_test_norm, 0), 3)"
      ],
      "metadata": {
        "id": "vGpn_ha6N6OH"
      },
      "execution_count": null,
      "outputs": []
    },
    {
      "cell_type": "code",
      "source": [
        "one_exp.shape"
      ],
      "metadata": {
        "colab": {
          "base_uri": "https://localhost:8080/"
        },
        "id": "sO1a6r66OUrg",
        "outputId": "5a8fb53a-dea6-4488-9c41-275e1778f6fd"
      },
      "execution_count": null,
      "outputs": [
        {
          "output_type": "execute_result",
          "data": {
            "text/plain": [
              "(1, 128, 128, 1)"
            ]
          },
          "metadata": {},
          "execution_count": 77
        }
      ]
    },
    {
      "cell_type": "code",
      "source": [
        "res=model_loaded.predict(one_exp)"
      ],
      "metadata": {
        "id": "6sK67lTKOXvZ"
      },
      "execution_count": null,
      "outputs": []
    },
    {
      "cell_type": "code",
      "source": [
        "res2=res[0]\n",
        "res2.shape"
      ],
      "metadata": {
        "colab": {
          "base_uri": "https://localhost:8080/"
        },
        "id": "g5q2PcIyOexM",
        "outputId": "a0088cc9-eaed-4341-cb93-0952818bb295"
      },
      "execution_count": null,
      "outputs": [
        {
          "output_type": "execute_result",
          "data": {
            "text/plain": [
              "(128, 128, 1)"
            ]
          },
          "metadata": {},
          "execution_count": 92
        }
      ]
    },
    {
      "cell_type": "code",
      "source": [
        ""
      ],
      "metadata": {
        "id": "T0Pn4vOBUZsP"
      },
      "execution_count": null,
      "outputs": []
    },
    {
      "cell_type": "code",
      "source": [
        "\n",
        "res3=res2.reshape(128,128)"
      ],
      "metadata": {
        "id": "uyu6dSqEPTOk"
      },
      "execution_count": null,
      "outputs": []
    },
    {
      "cell_type": "code",
      "source": [
        "res3.shape"
      ],
      "metadata": {
        "colab": {
          "base_uri": "https://localhost:8080/"
        },
        "id": "UPyBg9CnQH7u",
        "outputId": "a4160c0c-35f0-4c05-f7b7-1c8e7845f52f"
      },
      "execution_count": null,
      "outputs": [
        {
          "output_type": "execute_result",
          "data": {
            "text/plain": [
              "(128, 128)"
            ]
          },
          "metadata": {},
          "execution_count": 100
        }
      ]
    },
    {
      "cell_type": "code",
      "source": [
        "plt.imshow(res3*255, cmap=\"gray\")"
      ],
      "metadata": {
        "colab": {
          "base_uri": "https://localhost:8080/",
          "height": 285
        },
        "id": "V70IBGB6O9yA",
        "outputId": "2098c9bf-02f5-470a-f621-53958db98e7f"
      },
      "execution_count": null,
      "outputs": [
        {
          "output_type": "execute_result",
          "data": {
            "text/plain": [
              "<matplotlib.image.AxesImage at 0x7f530807f690>"
            ]
          },
          "metadata": {},
          "execution_count": 102
        },
        {
          "output_type": "display_data",
          "data": {
            "text/plain": [
              "<Figure size 432x288 with 1 Axes>"
            ],
            "image/png": "[encoded data removed]"
          },
          "metadata": {
            "needs_background": "light"
          }
        }
      ]
    },
    {
      "cell_type": "code",
      "source": [
        "#Standardize the pixel values\n",
        "from sklearn.cluster import KMeans\n",
        "from skimage import morphology\n",
        "from skimage import measure\n",
        "from PIL import Image\n",
        "import imageio\n",
        "import cv2\n",
        "\n",
        "def mask(img, img_name,diagnos, display=False):\n",
        "    row_size= img.shape[0]\n",
        "    col_size = img.shape[1]\n",
        "    \n",
        "    mean = np.mean(img)\n",
        "    std = np.std(img)\n",
        "    \n",
        "    img = img-mean\n",
        "    img = img/std\n",
        "    # Найти среднее значение пикселя рядом с легкими\n",
        "    # для перенормировки размытых изображений\n",
        "    middle = img[int(col_size/5):int(col_size/5*4),int(row_size/5):int(row_size/5*4)] \n",
        "    mean = np.mean(middle)  \n",
        "    max = np.max(img)\n",
        "    min = np.min(img)\n",
        "    # \n",
        "    # \n",
        "    img[img==max]=mean\n",
        "    img[img==min]=mean\n",
        "    #\n",
        "    # Использование Kmeans для разделения переднего плана (мягкие ткани / кости) и фона (легкие / воздух)\n",
        "    #\n",
        "    kmeans = KMeans(n_clusters=2).fit(np.reshape(middle,[np.prod(middle.shape),1]))\n",
        "    #Получаю центр каждого кластера\n",
        "    centers = sorted(kmeans.cluster_centers_.flatten())\n",
        "    \n",
        "    threshold = np.mean(centers)\n",
        "    \n",
        "    thresh_img = np.where(img<threshold,1.0,0.0)  # пороговое значение изображения\n",
        "\n",
        "    # Сначала удаляются более мелкие элементы, затем расширяются, чтобы включить некоторые пиксели, окружающие легкое. \n",
        "    # нельзя случайно задеть легкое.\n",
        "\n",
        "    #eroded = morphology.erosion(thresh_img,np.ones([3,3]))\n",
        "    dilation = morphology.dilation(thresh_img,np.ones([8,8]))\n",
        "    #Получение связанной области изображения\n",
        "    labels = measure.label(dilation) # Разные части отображаются разными цветами\n",
        "    \n",
        "    #Получение уникальных областей\n",
        "    label_vals = np.unique(labels)\n",
        "    \n",
        "    regions = measure.regionprops(labels)\n",
        "    \n",
        "    good_labels = []\n",
        "    for prop in regions:\n",
        "        B = prop.bbox\n",
        "        if B[2]-B[0]<row_size/14*13 and B[3]-B[1]<col_size/14*13 and B[0]>row_size/7 and B[2]<col_size/16*15:\n",
        "            good_labels.append(prop.label)\n",
        "    mask = np.ndarray([row_size,col_size],dtype=np.int8)\n",
        "    mask[:] = 0\n",
        "\n",
        "    #\n",
        "    #  После того, как останутся только легкие, делаем еще одну операцию, чтобы заполнить и удалить легочную маску\n",
        "    for N in good_labels:\n",
        "        mask = mask + np.where(labels==N,1,0)\n",
        "    \n",
        "    mask = morphology.dilation(mask,np.ones([10,10])) # one last dilation\n",
        "\n",
        "    if (display):\n",
        "        fig, ax = plt.subplots(3, 2, figsize=[12, 12])\n",
        "        ax[0, 0].set_title(\"Original\")\n",
        "        ax[0, 0].imshow(img, cmap='gray')\n",
        "        ax[0, 0].axis('off')\n",
        "        ax[0, 1].set_title(\"Threshold\")\n",
        "        ax[0, 1].imshow(thresh_img, cmap='gray')\n",
        "        ax[0, 1].axis('off')\n",
        "        ax[1, 0].set_title(\"After Erosion and Dilation\")\n",
        "        ax[1, 0].imshow(dilation, cmap='gray')\n",
        "        ax[1, 0].axis('off')\n",
        "        ax[1, 1].set_title(\"Color Labels\")\n",
        "        ax[1, 1].imshow(labels, cmap='plasma')\n",
        "        ax[1, 1].axis('off')\n",
        "        ax[2, 0].set_title(\"Final Mask\")\n",
        "        ax[2, 0].imshow(mask, cmap='gray')\n",
        "        ax[2, 0].axis('off')\n",
        "        ax[2, 1].set_title(\"Apply Mask on Original\")\n",
        "        ax[2, 1].imshow(mask*img, cmap='gray')\n",
        "        ax[2, 1].axis('off')\n",
        "        \n",
        "        plt.show()\n",
        "\n",
        "\n",
        "    #Отсюда идет поиск области интереса, а не легких\n",
        "    dilation=dilation*255\n",
        "    \n",
        "    dilation=dilation.flatten()\n",
        "    print(len(dilation))\n",
        "    new_mask=[]\n",
        "    for i in range(0, len(dilation)):\n",
        "        new_mask.append(f_bin(dilation[i]))\n",
        "    new_mask=np.asarray(new_mask).reshape(512,512)\n",
        "\n",
        "    labels2 = measure.label(new_mask) # Разные части отображаются разными цветами\n",
        "    \n",
        "    #Получение уникальных областей\n",
        "    label_vals2 = np.unique(labels2)\n",
        "    \n",
        "    regions2 = measure.regionprops(labels2)\n",
        "    good_labels2=[]\n",
        "\n",
        "    for prop in regions2:\n",
        "        B = prop.bbox\n",
        "        if B[2]-B[0]<row_size/20 and B[3]-B[1]<col_size/20 and B[0]>row_size/4 and B[2]<col_size/5*4:\n",
        "            good_labels2.append(prop.label)\n",
        "    mask2 = np.ndarray([row_size,col_size],dtype=np.int8)\n",
        "    mask2[:] = 0\n",
        "\n",
        "    #\n",
        "    #  \n",
        "    for N in good_labels2:\n",
        "        mask2 = mask2 + np.where(labels2==N,1,0)\n",
        "    print(good_labels2)\n",
        "\n",
        "    mask2 = morphology.dilation(mask2,np.ones([10,10])) # one last dilation\n",
        "    plt.imshow(mask2*img, cmap='gray')\n",
        "    plt.axis(\"off\")\n",
        "    if(diagnos==\"Cancer\"):\n",
        "        cv2.imwrite('/content/drive/MyDrive/UnetLern/Cancer/'+img_name.replace('.dcm', '.jpeg'), mask*255)\n",
        "    if(diagnos==\"Tuberculosis\"):\n",
        "        #im.save('/content/drive/MyDrive/UnetLern/Tuberculesis/'+img_name.replace('.dcm', '.jpeg'), img*mask)\n",
        "        cv2.imwrite('/content/drive/MyDrive/UnetLern/Tuberculesis/'+img_name.replace('.dcm', '.jpeg'), mask*255)\n",
        "    if(diagnos==\"Pneumonia\"):\n",
        "        #im.save('/content/drive/MyDrive/Mask/Pneumonia/'+img_name+\".jpg\")\n",
        "        cv2.imwrite('/content/drive/MyDrive/UnetLern/Pneumonia/'+img_name.replace('.dcm', '.jpeg'), mask*255)\n",
        "    return mask*255\n",
        "def resample(image, scan, new_spacing=[1,1,1]):\n",
        "    # Determine current pixel spacing\n",
        "    spacing = map(float, ([scan[0].SliceThickness] + list(scan[0].PixelSpacing)))\n",
        "    spacing = np.array(list(spacing))\n",
        "\n",
        "    resize_factor = spacing / new_spacing\n",
        "    new_real_shape = image.shape * resize_factor\n",
        "    new_shape = np.round(new_real_shape)\n",
        "    real_resize_factor = new_shape / image.shape\n",
        "    new_spacing = spacing / real_resize_factor\n",
        "    \n",
        "    image = scipy.ndimage.interpolation.zoom(image, real_resize_factor)\n",
        "    \n",
        "    return image, new_spacing\n"
      ],
      "metadata": {
        "id": "GS5PdGMXPBGw"
      },
      "execution_count": null,
      "outputs": []
    }
  ]
}